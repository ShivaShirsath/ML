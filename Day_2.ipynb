{
  "cells": [
    {
      "cell_type": "markdown",
      "source": [
        "# Day 2"
      ],
      "metadata": {
        "collapsed": false,
        "pycharm": {
          "name": "#%% md\n"
        },
        "id": "x7sjrUjO3NAA"
      }
    },
    {
      "cell_type": "markdown",
      "source": [
        "## Agenda\n",
        "\n",
        "1. Introduction to NumPy\n",
        "2. Introduction to Matplotlib\n",
        "3. Introduction to Pandas"
      ],
      "metadata": {
        "collapsed": false,
        "pycharm": {
          "name": "#%% md\n"
        },
        "id": "4jfHws9G3NAF"
      }
    },
    {
      "cell_type": "markdown",
      "source": [
        "## Introduction to NumPy!\n",
        "\n",
        "<img src=\"https://upload.wikimedia.org/wikipedia/commons/thumb/3/31/NumPy_logo_2020.svg/1280px-NumPy_logo_2020.svg.png\"/>"
      ],
      "metadata": {
        "collapsed": false,
        "pycharm": {
          "name": "#%% md\n"
        },
        "id": "Gt4au7nE3NAG"
      }
    },
    {
      "cell_type": "markdown",
      "source": [
        "### What is NumPy?\n",
        "\n",
        "\n",
        "* NumPy stands for Numerical Python.\n",
        "* It is a Python library used for working with arrays (data types similar to lists)."
      ],
      "metadata": {
        "collapsed": false,
        "pycharm": {
          "name": "#%% md\n"
        },
        "id": "89usj1Er3NAH"
      }
    },
    {
      "cell_type": "markdown",
      "source": [
        "### Advantages of NumPy\n",
        "* In Python, we have lists that serve the purpose of arrays, but they are slow to process.\n",
        "* NumPy aims to provide an array object that is up to 50x faster than traditional Python lists.\n",
        "* Arrays are very frequently used in data science, where speed and resources are very important.\n",
        "* NumPy is a Python library and is written partially in Python, but most of the parts that require fast computation are written in C or C++.\n",
        "* Since C and C++ are much faster than Python, NumPy is a great way to speed up Python programs."
      ],
      "metadata": {
        "collapsed": false,
        "pycharm": {
          "name": "#%% md\n"
        },
        "id": "qycexZ6_3NAI"
      }
    },
    {
      "cell_type": "markdown",
      "source": [
        "### Getting Started"
      ],
      "metadata": {
        "collapsed": false,
        "pycharm": {
          "name": "#%% md\n"
        },
        "id": "L-o--chc3NAJ"
      }
    },
    {
      "cell_type": "code",
      "execution_count": 2,
      "outputs": [],
      "source": [
        "# importing numpy\n",
        "import numpy as np"
      ],
      "metadata": {
        "pycharm": {
          "name": "#%%\n"
        },
        "id": "OLAGHxaW3NAJ"
      }
    },
    {
      "cell_type": "code",
      "execution_count": 3,
      "outputs": [
        {
          "output_type": "execute_result",
          "data": {
            "text/plain": [
              "'1.21.6'"
            ],
            "application/vnd.google.colaboratory.intrinsic+json": {
              "type": "string"
            }
          },
          "metadata": {},
          "execution_count": 3
        }
      ],
      "source": [
        "# Checking NumPy version:\n",
        "np.__version__"
      ],
      "metadata": {
        "pycharm": {
          "name": "#%%\n"
        },
        "colab": {
          "base_uri": "https://localhost:8080/",
          "height": 35
        },
        "id": "wSduNsUG3NAL",
        "outputId": "e576ac5d-8f98-4e7d-b849-3c8c03e28e76"
      }
    },
    {
      "cell_type": "markdown",
      "source": [
        "### Creating Array's"
      ],
      "metadata": {
        "collapsed": false,
        "pycharm": {
          "name": "#%% md\n"
        },
        "id": "fC_hOL6e3NAM"
      }
    },
    {
      "cell_type": "markdown",
      "source": [
        "To create an NumPy array, we can pass a list or tuple into the array() method, and it will be converted into a ndarray (another name for NumPy array):"
      ],
      "metadata": {
        "collapsed": false,
        "pycharm": {
          "name": "#%% md\n"
        },
        "id": "Na6IjaP53NAN"
      }
    },
    {
      "cell_type": "code",
      "execution_count": 9,
      "outputs": [],
      "source": [
        "# Creating an array:\n",
        "a=np.array([1,2,3,4,5])"
      ],
      "metadata": {
        "pycharm": {
          "name": "#%%\n"
        },
        "id": "39BT7I093NAO"
      }
    },
    {
      "cell_type": "code",
      "execution_count": 10,
      "outputs": [
        {
          "output_type": "execute_result",
          "data": {
            "text/plain": [
              "array([1, 2, 3, 4, 5])"
            ]
          },
          "metadata": {},
          "execution_count": 10
        }
      ],
      "source": [
        "# Printing the array:\n",
        "a"
      ],
      "metadata": {
        "pycharm": {
          "name": "#%%\n"
        },
        "colab": {
          "base_uri": "https://localhost:8080/"
        },
        "id": "YCmiRWil3NAO",
        "outputId": "21e94195-7b46-4243-d10a-5e5301be6849"
      }
    },
    {
      "cell_type": "code",
      "execution_count": 11,
      "outputs": [
        {
          "output_type": "execute_result",
          "data": {
            "text/plain": [
              "array([1, 2, 3, 4])"
            ]
          },
          "metadata": {},
          "execution_count": 11
        }
      ],
      "source": [
        "# Creating NumPy array from predefined list:\n",
        "numbers = [1, 2, 3, 4]\n",
        "b=np.array(numbers)\n",
        "b"
      ],
      "metadata": {
        "pycharm": {
          "name": "#%%\n"
        },
        "colab": {
          "base_uri": "https://localhost:8080/"
        },
        "id": "gWwmGjYA3NAP",
        "outputId": "1c0bd367-9146-44fe-88fc-cdc32e4c7093"
      }
    },
    {
      "cell_type": "markdown",
      "source": [
        "We can use the built-in Python function `type()` to check the data type of any object. We can use this on the array we just created:"
      ],
      "metadata": {
        "collapsed": false,
        "pycharm": {
          "name": "#%% md\n"
        },
        "id": "p4Hf5OhB3NAP"
      }
    },
    {
      "cell_type": "code",
      "execution_count": 12,
      "outputs": [
        {
          "output_type": "execute_result",
          "data": {
            "text/plain": [
              "numpy.ndarray"
            ]
          },
          "metadata": {},
          "execution_count": 12
        }
      ],
      "source": [
        "# Checking the data type of array:\n",
        "type(a)"
      ],
      "metadata": {
        "pycharm": {
          "name": "#%%\n"
        },
        "colab": {
          "base_uri": "https://localhost:8080/"
        },
        "id": "w2HfU0t43NAQ",
        "outputId": "a11369c6-e1f4-45ac-9bac-2b1a2c6fd335"
      }
    },
    {
      "cell_type": "markdown",
      "source": [
        "### Dimensions in Arrays"
      ],
      "metadata": {
        "collapsed": false,
        "pycharm": {
          "name": "#%% md\n"
        },
        "id": "skrnX1wg3NAR"
      }
    },
    {
      "cell_type": "markdown",
      "source": [
        "NumPy arrays can have different dimensions. Let's take a look at how dimensions work in NumPy."
      ],
      "metadata": {
        "collapsed": false,
        "pycharm": {
          "name": "#%% md\n"
        },
        "id": "slSGEbgC3NAS"
      }
    },
    {
      "cell_type": "markdown",
      "source": [
        "#### 0 Dimensional Arrays"
      ],
      "metadata": {
        "collapsed": false,
        "pycharm": {
          "name": "#%% md\n"
        },
        "id": "e25ntcLQ3NAS"
      }
    },
    {
      "cell_type": "markdown",
      "source": [
        "A 0 dimensional Array is basically a single number, that's it:\n",
        "\n",
        "![](https://i.ibb.co/n39yn6t/image.png)"
      ],
      "metadata": {
        "collapsed": false,
        "pycharm": {
          "name": "#%% md\n"
        },
        "id": "i35aE2_03NAT"
      }
    },
    {
      "cell_type": "code",
      "execution_count": 13,
      "outputs": [
        {
          "output_type": "stream",
          "name": "stdout",
          "text": [
            "25\n"
          ]
        }
      ],
      "source": [
        "# Creating a 0 dimensional array:\n",
        "zero_d_array = np.array(25)\n",
        "\n",
        "# Printing the array:\n",
        "print(zero_d_array)"
      ],
      "metadata": {
        "pycharm": {
          "name": "#%%\n"
        },
        "colab": {
          "base_uri": "https://localhost:8080/"
        },
        "id": "u-RTNXk-3NAT",
        "outputId": "8d0c1a96-e862-40ba-8e9a-df963c30b668"
      }
    },
    {
      "cell_type": "markdown",
      "source": [
        "We can check the number of dimensions in an array using the `ndim` attribute. NumPy Arrays provides the `ndim` attribute that returns an integer that tells us how many dimensions the array has."
      ],
      "metadata": {
        "collapsed": false,
        "pycharm": {
          "name": "#%% md\n"
        },
        "id": "R8kSIZl33NAU"
      }
    },
    {
      "cell_type": "code",
      "execution_count": 14,
      "outputs": [
        {
          "output_type": "execute_result",
          "data": {
            "text/plain": [
              "0"
            ]
          },
          "metadata": {},
          "execution_count": 14
        }
      ],
      "source": [
        "# Checking the number of dimensions in an array:\n",
        "zero_d_array.ndim"
      ],
      "metadata": {
        "pycharm": {
          "name": "#%%\n"
        },
        "colab": {
          "base_uri": "https://localhost:8080/"
        },
        "id": "BjgqyZ6Y3NAU",
        "outputId": "dacdbec6-4506-473e-da27-04ca5034e727"
      }
    },
    {
      "cell_type": "markdown",
      "source": [
        "#### 1 Dimensional Arrays"
      ],
      "metadata": {
        "collapsed": false,
        "pycharm": {
          "name": "#%% md\n"
        },
        "id": "q9QH3sDB3NAV"
      }
    },
    {
      "cell_type": "markdown",
      "source": [
        "A 1 dimensional array looks like a simple python list:\n",
        "\n",
        "![](https://i.ibb.co/3yRfybV/image.png)\n",
        "\n",
        "It can be thought of as several 0 dimensional arrays put next to each other"
      ],
      "metadata": {
        "collapsed": false,
        "pycharm": {
          "name": "#%% md\n"
        },
        "id": "BZnrFlfB3NAV"
      }
    },
    {
      "cell_type": "code",
      "execution_count": 15,
      "outputs": [
        {
          "output_type": "stream",
          "name": "stdout",
          "text": [
            "[1 2 3 4 5]\n"
          ]
        }
      ],
      "source": [
        " # Creating a 1 dimensional array:\n",
        "one_d_array = np.array([1,2,3,4,5])\n",
        "\n",
        "# Printing the array:\n",
        "print(one_d_array)"
      ],
      "metadata": {
        "pycharm": {
          "name": "#%%\n"
        },
        "colab": {
          "base_uri": "https://localhost:8080/"
        },
        "id": "DdgwDbCS3NAV",
        "outputId": "8632993d-69eb-4f12-e1a6-546496fd3ea1"
      }
    },
    {
      "cell_type": "code",
      "execution_count": 16,
      "outputs": [
        {
          "output_type": "execute_result",
          "data": {
            "text/plain": [
              "1"
            ]
          },
          "metadata": {},
          "execution_count": 16
        }
      ],
      "source": [
        "# Checking number of dimensions:\n",
        "one_d_array.ndim"
      ],
      "metadata": {
        "pycharm": {
          "name": "#%%\n"
        },
        "colab": {
          "base_uri": "https://localhost:8080/"
        },
        "id": "Tchk-H6P3NAW",
        "outputId": "769ac798-b189-4f90-e428-f683ec6846ec"
      }
    },
    {
      "cell_type": "markdown",
      "source": [
        "#### 2 Dimensional arrays"
      ],
      "metadata": {
        "collapsed": false,
        "pycharm": {
          "name": "#%% md\n"
        },
        "id": "zYIWG-r73NAW"
      }
    },
    {
      "cell_type": "markdown",
      "source": [
        "A 2 dimensional array is a flat grid of numbers in a rectangular shape:\n",
        "\n",
        "![](https://i.ibb.co/hVZfGxz/image.png)\n",
        "\n",
        "It can be thought of as several 1-d arrays stacked on top of each other."
      ],
      "metadata": {
        "collapsed": false,
        "pycharm": {
          "name": "#%% md\n"
        },
        "id": "NTtRdmqp3NAW"
      }
    },
    {
      "cell_type": "markdown",
      "source": [
        "We can create two-dimensional arrays in NumPy by creating a main array with other smaller arrays inside it:"
      ],
      "metadata": {
        "collapsed": false,
        "pycharm": {
          "name": "#%% md\n"
        },
        "id": "n3nkbGA33NAX"
      }
    },
    {
      "cell_type": "code",
      "execution_count": 17,
      "outputs": [
        {
          "output_type": "stream",
          "name": "stdout",
          "text": [
            "[[1 2 3]\n",
            " [4 5 6]]\n"
          ]
        }
      ],
      "source": [
        "# Creating a 2 dimensional array containing two arrays with the values 1,2,3 and 4,5,6:\n",
        "two_d_array = np.array([[1, 2, 3], [4, 5, 6]])\n",
        "\n",
        "# Printing the array:\n",
        "print(two_d_array)"
      ],
      "metadata": {
        "pycharm": {
          "name": "#%%\n"
        },
        "colab": {
          "base_uri": "https://localhost:8080/"
        },
        "id": "oCRYIt0k3NAX",
        "outputId": "c6ec2ad1-ad37-446e-bb61-c1c767d5d1ec"
      }
    },
    {
      "cell_type": "code",
      "execution_count": 18,
      "outputs": [
        {
          "output_type": "execute_result",
          "data": {
            "text/plain": [
              "2"
            ]
          },
          "metadata": {},
          "execution_count": 18
        }
      ],
      "source": [
        "# Checking number of dimensions:\n",
        "two_d_array.ndim"
      ],
      "metadata": {
        "pycharm": {
          "name": "#%%\n"
        },
        "colab": {
          "base_uri": "https://localhost:8080/"
        },
        "id": "s7G2zipn3NAX",
        "outputId": "c76b0437-6c68-4834-86a2-94920bcffd58"
      }
    },
    {
      "cell_type": "markdown",
      "source": [
        "Theoretically, there can be arrays with an infinite number of dimensions. But we will mainly focus on 1 dimensional and 2 dimensional arrays."
      ],
      "metadata": {
        "collapsed": false,
        "pycharm": {
          "name": "#%% md\n"
        },
        "id": "0G5CnPsP3NAY"
      }
    },
    {
      "cell_type": "markdown",
      "source": [
        "### NumPy Array Indexing"
      ],
      "metadata": {
        "collapsed": false,
        "pycharm": {
          "name": "#%% md\n"
        },
        "id": "dcAEdhRd3NAY"
      }
    },
    {
      "cell_type": "markdown",
      "source": [
        "* Indexing NumPy arrays is identical to indexing Python lists.\n",
        "* You can access an array element by referring to its index number.\n",
        "* The indexes in NumPy arrays start with 0, meaning that the first element has index 0, and the second has index 1 etc."
      ],
      "metadata": {
        "collapsed": false,
        "pycharm": {
          "name": "#%% md\n"
        },
        "id": "Xd9KNXRW3NAZ"
      }
    },
    {
      "cell_type": "code",
      "execution_count": 19,
      "outputs": [
        {
          "output_type": "execute_result",
          "data": {
            "text/plain": [
              "1"
            ]
          },
          "metadata": {},
          "execution_count": 19
        }
      ],
      "source": [
        "# Creating an array:\n",
        "array = np.array([1, 2, 3, 4, 5, 6, 7, 8, 9])\n",
        "\n",
        "# Printing the first element of the array:\n",
        "array[0]"
      ],
      "metadata": {
        "pycharm": {
          "name": "#%%\n"
        },
        "colab": {
          "base_uri": "https://localhost:8080/"
        },
        "id": "c1dADpD23NAZ",
        "outputId": "62b52b71-301d-437b-f5cf-839da4afd19a"
      }
    },
    {
      "cell_type": "code",
      "execution_count": 22,
      "outputs": [
        {
          "output_type": "stream",
          "name": "stdout",
          "text": [
            "2\n",
            "5\n"
          ]
        }
      ],
      "source": [
        "# Printing the second element from the array:\n",
        "print(array[1])\n",
        "\n",
        "# Printing the fifth element from the array:\n",
        "print(array[4])"
      ],
      "metadata": {
        "pycharm": {
          "name": "#%%\n"
        },
        "colab": {
          "base_uri": "https://localhost:8080/"
        },
        "id": "x5oPTCah3NAa",
        "outputId": "b08d1f68-780b-433a-92a0-5cf4c2c5daeb"
      }
    },
    {
      "cell_type": "markdown",
      "source": [
        "#### Negative Indexing\n",
        "\n",
        "We can use the minus (-) operator to get an index from the end:"
      ],
      "metadata": {
        "collapsed": false,
        "pycharm": {
          "name": "#%% md\n"
        },
        "id": "ofPk1haH3NAa"
      }
    },
    {
      "cell_type": "code",
      "execution_count": 23,
      "outputs": [
        {
          "output_type": "stream",
          "name": "stdout",
          "text": [
            "9\n",
            "7\n"
          ]
        }
      ],
      "source": [
        "# Print the last element in the array:\n",
        "print(array[-1])\n",
        "\n",
        "# Print the third last element in the array:\n",
        "print(array[-3])"
      ],
      "metadata": {
        "pycharm": {
          "name": "#%%\n"
        },
        "colab": {
          "base_uri": "https://localhost:8080/"
        },
        "id": "IcSL9lKY3NAa",
        "outputId": "78f69967-7449-49bc-ee84-3eb2bd9f9a74"
      }
    },
    {
      "cell_type": "markdown",
      "source": [
        "### NumPy Array Slicing"
      ],
      "metadata": {
        "collapsed": false,
        "pycharm": {
          "name": "#%% md\n"
        },
        "id": "Zt0b8r6h3NAb"
      }
    },
    {
      "cell_type": "markdown",
      "source": [
        "* Slicing in python means taking elements from one given index to another given index.\n",
        "* It means extracting a part of the array.\n",
        "* We pass slice instead of index like this: `[start:end]`"
      ],
      "metadata": {
        "collapsed": false,
        "pycharm": {
          "name": "#%% md\n"
        },
        "id": "1W2juJa33NAb"
      }
    },
    {
      "cell_type": "code",
      "execution_count": 25,
      "outputs": [
        {
          "output_type": "stream",
          "name": "stdout",
          "text": [
            "[2 3 4 5]\n"
          ]
        }
      ],
      "source": [
        "# Creating an array:\n",
        "array = np.array([1, 2, 3, 4, 5, 6, 7, 8, 9])\n",
        "\n",
        "# Printing the 2nd to 5th elements:\n",
        "print(array[1:5])"
      ],
      "metadata": {
        "pycharm": {
          "name": "#%%\n"
        },
        "colab": {
          "base_uri": "https://localhost:8080/"
        },
        "id": "N_dsI6Ao3NAb",
        "outputId": "cad17b54-681d-4cb2-c83f-8167f16a3b76"
      }
    },
    {
      "cell_type": "markdown",
      "source": [
        "If we don't pass start its considered 0, so we can get elements from the start to a particular index:"
      ],
      "metadata": {
        "collapsed": false,
        "pycharm": {
          "name": "#%% md\n"
        },
        "id": "nnD2Ovhu3NAb"
      }
    },
    {
      "cell_type": "code",
      "execution_count": 26,
      "outputs": [
        {
          "output_type": "stream",
          "name": "stdout",
          "text": [
            "[1 2 3 4 5]\n"
          ]
        }
      ],
      "source": [
        "# Printing the first 5 elements:\n",
        "print(array[:5])"
      ],
      "metadata": {
        "pycharm": {
          "name": "#%%\n"
        },
        "colab": {
          "base_uri": "https://localhost:8080/"
        },
        "id": "7tpoy79w3NAc",
        "outputId": "bf7d5c40-c7dc-4eb8-f515-2d7fa44dcb26"
      }
    },
    {
      "cell_type": "markdown",
      "source": [
        "#### Negative Slicing"
      ],
      "metadata": {
        "collapsed": false,
        "pycharm": {
          "name": "#%% md\n"
        },
        "id": "rmVWIu213NAc"
      }
    },
    {
      "cell_type": "markdown",
      "source": [
        "We can use the minus (`-`) operator to get an index from the end:"
      ],
      "metadata": {
        "collapsed": false,
        "pycharm": {
          "name": "#%% md\n"
        },
        "id": "_XAsY8WK3NAd"
      }
    },
    {
      "cell_type": "markdown",
      "source": [
        "### NumPy Array Shape"
      ],
      "metadata": {
        "collapsed": false,
        "pycharm": {
          "name": "#%% md\n"
        },
        "id": "mULIeaJ43NAd"
      }
    },
    {
      "cell_type": "markdown",
      "source": [
        "We can get the shape of a NumPy array ising the `shape` attribute. It basically returns the number of rows and columns in the array:"
      ],
      "metadata": {
        "collapsed": false,
        "pycharm": {
          "name": "#%% md\n"
        },
        "id": "rs2y2WOV3NAd"
      }
    },
    {
      "cell_type": "markdown",
      "source": [
        "Let's get the shape of a 1 dimensional array:"
      ],
      "metadata": {
        "collapsed": false,
        "pycharm": {
          "name": "#%% md\n"
        },
        "id": "17FNRi_M3NAd"
      }
    },
    {
      "cell_type": "code",
      "execution_count": 28,
      "outputs": [
        {
          "output_type": "execute_result",
          "data": {
            "text/plain": [
              "(6,)"
            ]
          },
          "metadata": {},
          "execution_count": 28
        }
      ],
      "source": [
        "# Creating a 1-d array:\n",
        "array = np.array([1, 2, 3, 4, 5, 6])\n",
        "\n",
        "# Printing the shape of the array:\n",
        "array.shape"
      ],
      "metadata": {
        "pycharm": {
          "name": "#%%\n"
        },
        "colab": {
          "base_uri": "https://localhost:8080/"
        },
        "id": "_hLWunn13NAe",
        "outputId": "b6ec4577-9689-4f53-ec74-a0e123bd0d2d"
      }
    },
    {
      "cell_type": "markdown",
      "source": [
        "We can see that the array has 6 columns and 0 rows."
      ],
      "metadata": {
        "collapsed": false,
        "pycharm": {
          "name": "#%% md\n"
        },
        "id": "6jxnEC4Z3NAe"
      }
    },
    {
      "cell_type": "markdown",
      "source": [
        "Let's try to do the same with a 2-dimensional array:"
      ],
      "metadata": {
        "collapsed": false,
        "pycharm": {
          "name": "#%% md\n"
        },
        "id": "aNSlZFQ93NAe"
      }
    },
    {
      "cell_type": "code",
      "execution_count": null,
      "outputs": [
        {
          "name": "stdout",
          "output_type": "stream",
          "text": [
            "[[1 2 3 4]\n",
            " [5 6 7 8]]\n"
          ]
        }
      ],
      "source": [
        "# Creating a two-dimensional array:\n",
        "two_d_array = np.array([[1, 2, 3, 4], [5, 6, 7, 8]])\n",
        "\n",
        "# Printing the 2D array:\n",
        "print(two_d_array)"
      ],
      "metadata": {
        "pycharm": {
          "name": "#%%\n"
        },
        "id": "4RuSMNZd3NAf",
        "outputId": "4fd67fd2-4c51-4708-cde8-f986a92a821f"
      }
    },
    {
      "cell_type": "code",
      "execution_count": 29,
      "outputs": [
        {
          "output_type": "execute_result",
          "data": {
            "text/plain": [
              "(2, 3)"
            ]
          },
          "metadata": {},
          "execution_count": 29
        }
      ],
      "source": [
        "# Getting the shape of a 2D array:\n",
        "two_d_array.shape"
      ],
      "metadata": {
        "pycharm": {
          "name": "#%%\n"
        },
        "colab": {
          "base_uri": "https://localhost:8080/"
        },
        "id": "x9hpcGbg3NAf",
        "outputId": "8f39e2d4-3205-4a4c-ed24-364f5feeb3fe"
      }
    },
    {
      "cell_type": "markdown",
      "source": [
        "In this example we can clearly see that the array has two rows and four columns."
      ],
      "metadata": {
        "collapsed": false,
        "pycharm": {
          "name": "#%% md\n"
        },
        "id": "XXJIhYQj3NAg"
      }
    },
    {
      "cell_type": "markdown",
      "source": [
        "That's it for the basics of NumPy, we will explore additional functionalities of this library when we move into the real world project."
      ],
      "metadata": {
        "collapsed": false,
        "pycharm": {
          "name": "#%% md\n"
        },
        "id": "PsHAKslL3NAg"
      }
    },
    {
      "cell_type": "markdown",
      "source": [
        "## Introduction to Matplotlib!\n",
        "\n",
        "![](https://interactivechaos.com/sites/default/files/2019-02/tutorial_matplotlib.png)"
      ],
      "metadata": {
        "collapsed": false,
        "pycharm": {
          "name": "#%% md\n"
        },
        "id": "TmBTlosJ3NAh"
      }
    },
    {
      "cell_type": "markdown",
      "source": [
        "### What is Matplotlib?\n",
        "\n",
        "* Before analyzing data, it is important to understand data.\n",
        "* The simplest way to understand data is to draw a plot.\n",
        "* Matplotlib is one of Python’s most important libraries used for data visualization."
      ],
      "metadata": {
        "collapsed": false,
        "pycharm": {
          "name": "#%% md\n"
        },
        "id": "PHhAJZCn3NAh"
      }
    },
    {
      "cell_type": "markdown",
      "source": [
        "### Getting Started"
      ],
      "metadata": {
        "collapsed": false,
        "pycharm": {
          "name": "#%% md\n"
        },
        "id": "REbGrvp73NAi"
      }
    },
    {
      "cell_type": "code",
      "execution_count": 30,
      "outputs": [],
      "source": [
        "# Import Matplotlib:\n",
        "import matplotlib.pyplot as plt"
      ],
      "metadata": {
        "pycharm": {
          "name": "#%%\n"
        },
        "id": "1ngc4tr03NAi"
      }
    },
    {
      "cell_type": "markdown",
      "source": [
        "### Creating Line graphs in Matplotlib"
      ],
      "metadata": {
        "collapsed": false,
        "pycharm": {
          "name": "#%% md\n"
        },
        "id": "IQ8uGd6V3NAi"
      }
    },
    {
      "cell_type": "markdown",
      "source": [
        "It is very easy to create a line graph in Matplotlib. We simply pass an array into the plot method:"
      ],
      "metadata": {
        "collapsed": false,
        "pycharm": {
          "name": "#%% md\n"
        },
        "id": "1AjRiH_83NAi"
      }
    },
    {
      "cell_type": "code",
      "execution_count": 33,
      "outputs": [
        {
          "output_type": "display_data",
          "data": {
            "text/plain": [
              "<Figure size 432x288 with 1 Axes>"
            ],
            "image/png": "[encoded data removed]"
          },
          "metadata": {
            "needs_background": "light"
          }
        }
      ],
      "source": [
        "# Creating a np array with test data:\n",
        "data = np.array([1, 3, 2, 5, 4, 7, 8])\n",
        "\n",
        "# Create a simple line plot:\n",
        "plt.plot(data)\n",
        "\n",
        "# Display the line plot:\n",
        "plt.show()"
      ],
      "metadata": {
        "pycharm": {
          "name": "#%%\n"
        },
        "colab": {
          "base_uri": "https://localhost:8080/",
          "height": 265
        },
        "id": "FTD-FMnt3NAj",
        "outputId": "f43a00d8-e768-40f1-80de-30bcc4a6fb95"
      }
    },
    {
      "cell_type": "markdown",
      "source": [
        "In this example we only gave values for the y-axis. Matplotlib automatically set the x-axis as a range of numbers. But we can also pass custom values in the x-axis:"
      ],
      "metadata": {
        "collapsed": false,
        "pycharm": {
          "name": "#%% md\n"
        },
        "id": "bn4PihXi3NAj"
      }
    },
    {
      "cell_type": "code",
      "execution_count": 35,
      "outputs": [
        {
          "output_type": "display_data",
          "data": {
            "text/plain": [
              "<Figure size 432x288 with 1 Axes>"
            ],
            "image/png": "[encoded data removed]"
          },
          "metadata": {
            "needs_background": "light"
          }
        }
      ],
      "source": [
        "# Creating a np array with test data:\n",
        "x_axis = np.array([\"Mon\", \"Tue\", \"Wed\", \"Thu\", \"Fri\", \"Sat\", \"Sun\"])\n",
        "y_axis = np.array([1, 3, 2, 5, 4, 7, 8])\n",
        "\n",
        "# Create a simple line plot:\n",
        "plt.plot(x_axis, y_axis)\n",
        "\n",
        "# Display the line plot:\n",
        "plt.show()"
      ],
      "metadata": {
        "pycharm": {
          "name": "#%%\n"
        },
        "colab": {
          "base_uri": "https://localhost:8080/",
          "height": 265
        },
        "id": "We1zHKAw3NAj",
        "outputId": "6a653270-a3c0-437f-e88e-8c61b2a2f287"
      }
    },
    {
      "cell_type": "markdown",
      "source": [
        "#### Adding Titles and Labelling Axes"
      ],
      "metadata": {
        "collapsed": false,
        "pycharm": {
          "name": "#%% md\n"
        },
        "id": "8CKV4xIK3NAk"
      }
    },
    {
      "cell_type": "markdown",
      "source": [
        "To Make the plot more informative we can also add a title to the graph and label the axes to make it clearer. Let's modify the same graph we created above:"
      ],
      "metadata": {
        "collapsed": false,
        "pycharm": {
          "name": "#%% md\n"
        },
        "id": "GruVkBfT3NAk"
      }
    },
    {
      "cell_type": "code",
      "execution_count": 36,
      "outputs": [
        {
          "output_type": "display_data",
          "data": {
            "text/plain": [
              "<Figure size 432x288 with 1 Axes>"
            ],
            "image/png": "[encoded data removed]"
          },
          "metadata": {
            "needs_background": "light"
          }
        }
      ],
      "source": [
        "# Creating a np array with test data:\n",
        "x_axis = np.array([\"Mon\", \"Tue\", \"Wed\", \"Thu\", \"Fri\", \"Sat\", \"Sun\"])\n",
        "y_axis = np.array([1, 3, 2, 5, 4, 7, 8])\n",
        "\n",
        "# Create a simple line plot:\n",
        "plt.plot(x_axis, y_axis)\n",
        "\n",
        "# Adding a title:\n",
        "plt.title(\"Energy Consumption Throughout the Week\")\n",
        "\n",
        "# Labelling the x-Axis:\n",
        "plt.xlabel(\"Day\")\n",
        "\n",
        "# Labelling the y-axis:\n",
        "plt.ylabel(\"Energy Consumption\")\n",
        "\n",
        "# Display the line plot:\n",
        "plt.show()"
      ],
      "metadata": {
        "pycharm": {
          "name": "#%%\n"
        },
        "colab": {
          "base_uri": "https://localhost:8080/",
          "height": 295
        },
        "id": "S2YaaOVw3NAk",
        "outputId": "709359a2-5b47-4cfd-f981-af6fe6728d7d"
      }
    },
    {
      "cell_type": "markdown",
      "source": [
        "The chart now conveys a lot more information and is very useful."
      ],
      "metadata": {
        "collapsed": false,
        "pycharm": {
          "name": "#%% md\n"
        },
        "id": "dWIPAkCV3NAl"
      }
    },
    {
      "cell_type": "markdown",
      "source": [
        "### Creating Scatter Graphs in Matplotlib"
      ],
      "metadata": {
        "collapsed": false,
        "pycharm": {
          "name": "#%% md\n"
        },
        "id": "t1A3wf5M3NAl"
      }
    },
    {
      "cell_type": "markdown",
      "source": [
        "Creating a scatter plot with Matplotlib is also very easy. The process is almost identical to creating a line graph. But instead of passing the data through `plt.plot()`  we pass it through `plt.scatter()`"
      ],
      "metadata": {
        "collapsed": false,
        "pycharm": {
          "name": "#%% md\n"
        },
        "id": "pcNFQhSk3NAl"
      }
    },
    {
      "cell_type": "code",
      "execution_count": 37,
      "outputs": [
        {
          "output_type": "display_data",
          "data": {
            "text/plain": [
              "<Figure size 432x288 with 1 Axes>"
            ],
            "image/png": "[encoded data removed]"
          },
          "metadata": {
            "needs_background": "light"
          }
        }
      ],
      "source": [
        "# Creating a np array with test data:\n",
        "x_axis = np.array([\"Mon\", \"Tue\", \"Wed\", \"Thu\", \"Fri\", \"Sat\", \"Sun\"])\n",
        "y_axis = np.array([1, 3, 2, 5, 4, 7, 8])\n",
        "\n",
        "# Create a simple scatter plot:\n",
        "plt.scatter(x_axis, y_axis)\n",
        "\n",
        "# Adding a title:\n",
        "plt.title(\"Energy Consumption Throughout the Week\")\n",
        "\n",
        "# Labelling the x-Axis:\n",
        "plt.xlabel(\"Day\")\n",
        "\n",
        "# Labelling the y-axis:\n",
        "plt.ylabel(\"Energy Consumption\")\n",
        "\n",
        "# Display the scatter plot:\n",
        "plt.show()"
      ],
      "metadata": {
        "pycharm": {
          "name": "#%%\n"
        },
        "colab": {
          "base_uri": "https://localhost:8080/",
          "height": 295
        },
        "id": "6j-ScXDi3NAl",
        "outputId": "13575012-05b0-4597-a565-af54021f8679"
      }
    },
    {
      "cell_type": "markdown",
      "source": [
        "### Creating a Bar Plot in Matplotlib"
      ],
      "metadata": {
        "collapsed": false,
        "pycharm": {
          "name": "#%% md\n"
        },
        "id": "ZGlx9Z_d3NAm"
      }
    },
    {
      "cell_type": "markdown",
      "source": [
        "As you might have guessed, creating bar plots in matplotlib is also very easy. All we need to do is pass the arrays into the `plt.bar()` function."
      ],
      "metadata": {
        "collapsed": false,
        "pycharm": {
          "name": "#%% md\n"
        },
        "id": "E5rifPVR3NAm"
      }
    },
    {
      "cell_type": "code",
      "execution_count": 38,
      "outputs": [
        {
          "output_type": "display_data",
          "data": {
            "text/plain": [
              "<Figure size 432x288 with 1 Axes>"
            ],
            "image/png": "[encoded data removed]"
          },
          "metadata": {
            "needs_background": "light"
          }
        }
      ],
      "source": [
        "# Creating a np array with test data:\n",
        "x_axis = np.array([\"Mon\", \"Tue\", \"Wed\", \"Thu\", \"Fri\", \"Sat\", \"Sun\"])\n",
        "y_axis = np.array([1, 3, 2, 5, 4, 7, 8])\n",
        "\n",
        "# Create a simple bar plot:\n",
        "plt.bar(x_axis, y_axis)\n",
        "\n",
        "# Adding a title:\n",
        "plt.title(\"Energy Consumption Throughout the Week\")\n",
        "\n",
        "# Labelling the x-Axis:\n",
        "plt.xlabel(\"Day\")\n",
        "\n",
        "# Labelling the y-axis:\n",
        "plt.ylabel(\"Energy Consumption\")\n",
        "\n",
        "# Display the bar plot:\n",
        "plt.show()"
      ],
      "metadata": {
        "pycharm": {
          "name": "#%%\n"
        },
        "colab": {
          "base_uri": "https://localhost:8080/",
          "height": 295
        },
        "id": "mCPHDLTU3NAm",
        "outputId": "9fe13734-e3a8-4d7f-b393-e50b7bd3f475"
      }
    },
    {
      "cell_type": "markdown",
      "source": [
        "### Creating Histograms in Matplotlib\n",
        "\n",
        "* Histograms are used to see the distribution of a variable.\n",
        "* In a histogram, each bar groups numbers into ranges. Histograms are also helpful in finding outliers in the dataset.\n",
        "* Histograms are often confused with bar charts. Histograms are similar to bar plots, but a histogram groups numbers into ranges. Histograms are used to show the distribution of the variable, while bar plots are used to compare variables."
      ],
      "metadata": {
        "collapsed": false,
        "pycharm": {
          "name": "#%% md\n"
        },
        "id": "i6X1fyX53NAn"
      }
    },
    {
      "cell_type": "markdown",
      "source": [
        "Let's create a histogram for the grades of students in a classroom."
      ],
      "metadata": {
        "collapsed": false,
        "pycharm": {
          "name": "#%% md\n"
        },
        "id": "AwHa70rz3NAn"
      }
    },
    {
      "cell_type": "markdown",
      "source": [],
      "metadata": {
        "collapsed": false,
        "pycharm": {
          "name": "#%% md\n"
        },
        "id": "Lze4XjMg3NAn"
      }
    },
    {
      "cell_type": "code",
      "execution_count": 39,
      "outputs": [],
      "source": [
        "# NumPy array with grades of students:\n",
        "grades = np.array([24, 44, 106, 23, 54, 53, 66, 68, 31, 74, 21, 86, 40, 75, 66, 43, 67, 33, 57, 59, 47, 75, 83, 16, 21, 55, 47, 70, 70, 39, 37, 25, 48, 60, 68, 50, 53, 61, 50, 76, 52, 48, 9, 52, 63, 63, 44, 65, 43, 102, 47, 29, 72, 48, 30, 40, 64, 38, 61, 40, 72, 36, 86, 76, 23, 83, 61, 33, 28, 42, 58, -8, 31, 35, 61, 57, 47, 97, 85, 53, 55, 51, 71, 58, 48, 35, 43, 82, 50, 65, 67, 28, 33, 58, 79, 78, 64, 68, 27, 71])"
      ],
      "metadata": {
        "pycharm": {
          "name": "#%%\n"
        },
        "id": "7-PijQd43NAn"
      }
    },
    {
      "cell_type": "code",
      "execution_count": 40,
      "outputs": [
        {
          "output_type": "display_data",
          "data": {
            "text/plain": [
              "<Figure size 432x288 with 1 Axes>"
            ],
            "image/png": "[encoded data removed]"
          },
          "metadata": {
            "needs_background": "light"
          }
        }
      ],
      "source": [
        "# Creating a simple histogram:\n",
        "plt.hist(grades)\n",
        "\n",
        "# Adding a title:\n",
        "plt.title(\"Distribution of Grade\")\n",
        "\n",
        "# Display the histogram:\n",
        "plt.show()"
      ],
      "metadata": {
        "pycharm": {
          "name": "#%%\n"
        },
        "colab": {
          "base_uri": "https://localhost:8080/",
          "height": 281
        },
        "id": "Nv_2w4BI3NAo",
        "outputId": "83ccd333-d622-4aa2-e6e0-581e7b82d29b"
      }
    },
    {
      "cell_type": "markdown",
      "source": [
        "The height of each bar in this histogram tells us how many students got a particular mark. For example, we can see that about 20 students got marks between 60 and 70, and about 3 students got marks between 90 and 100."
      ],
      "metadata": {
        "collapsed": false,
        "pycharm": {
          "name": "#%% md\n"
        },
        "id": "CiGJsbQN3NAo"
      }
    },
    {
      "cell_type": "markdown",
      "source": [
        "To add more details to the bar graph, we can increase the number of bins. They default to 10, but increasing that number can give us more detailed information. We can change the `bins` parameter in `plt.hist()` to something like 20.\n",
        "\n",
        "We will also add the `edgecolor` parameter. This adds a black border around the bars and makes them more visible."
      ],
      "metadata": {
        "collapsed": false,
        "pycharm": {
          "name": "#%% md\n"
        },
        "id": "1jWlVm-L3NAo"
      }
    },
    {
      "cell_type": "code",
      "execution_count": 41,
      "outputs": [
        {
          "output_type": "display_data",
          "data": {
            "text/plain": [
              "<Figure size 432x288 with 1 Axes>"
            ],
            "image/png": "[encoded data removed]"
          },
          "metadata": {
            "needs_background": "light"
          }
        }
      ],
      "source": [
        "# Creating a simple histogram and specifying number of bins:\n",
        "plt.hist(grades, bins=20, edgecolor=\"orange\")\n",
        "\n",
        "# Adding a title:\n",
        "plt.title(\"Distribution of Grade\")\n",
        "\n",
        "# Display the histogram:\n",
        "plt.show()"
      ],
      "metadata": {
        "pycharm": {
          "name": "#%%\n"
        },
        "colab": {
          "base_uri": "https://localhost:8080/",
          "height": 281
        },
        "id": "BupO2vjd3NAo",
        "outputId": "6d1abe21-e106-4147-a9b8-4f8c5d137053"
      }
    },
    {
      "cell_type": "markdown",
      "source": [
        "Since we are asking for more bins, the width of each bin has decreased. Now each bin tells us about a range of 5 number instead of 10. For example, we can see that about 2 students got marks between 95 and 100."
      ],
      "metadata": {
        "collapsed": false,
        "pycharm": {
          "name": "#%% md\n"
        },
        "id": "43D6cb_h3NAp"
      }
    },
    {
      "cell_type": "markdown",
      "source": [
        "## Introduction to Pandas\n",
        "\n",
        "![](https://i.redd.it/c6h7rok9c2v31.jpg)"
      ],
      "metadata": {
        "collapsed": false,
        "pycharm": {
          "name": "#%% md\n"
        },
        "id": "A2aR62Xg3NAp"
      }
    },
    {
      "cell_type": "markdown",
      "source": [
        "### What is Pandas?"
      ],
      "metadata": {
        "collapsed": false,
        "pycharm": {
          "name": "#%% md\n"
        },
        "id": "9mFrl6dt3NAp"
      }
    },
    {
      "cell_type": "markdown",
      "source": [
        "* Pandas is a package that is built on top of NumPy\n",
        "* While NumPy is mainly built to work with arrays, Pandas is designed to work with tables in the form of rows and columns.\n",
        "* It provides an easy interface to NumPy and has many useful functions to make our job easier."
      ],
      "metadata": {
        "collapsed": false,
        "pycharm": {
          "name": "#%% md\n"
        },
        "id": "wzbXGsnX3NAq"
      }
    },
    {
      "cell_type": "markdown",
      "source": [
        "### Getting started"
      ],
      "metadata": {
        "collapsed": false,
        "pycharm": {
          "name": "#%% md\n"
        },
        "id": "N17TfAu73NAq"
      }
    },
    {
      "cell_type": "code",
      "execution_count": null,
      "outputs": [],
      "source": [
        "# Importing Pandas:\n"
      ],
      "metadata": {
        "pycharm": {
          "name": "#%%\n"
        },
        "id": "PNJuPkql3NAq"
      }
    },
    {
      "cell_type": "code",
      "execution_count": null,
      "outputs": [
        {
          "name": "stdout",
          "output_type": "stream",
          "text": [
            "1.4.3\n"
          ]
        }
      ],
      "source": [
        "# Checking the version number:\n"
      ],
      "metadata": {
        "pycharm": {
          "name": "#%%\n"
        },
        "id": "UplsxPYL3NAq",
        "outputId": "ecf5fa3e-2aa2-4732-9b2a-defd7355ce75"
      }
    },
    {
      "cell_type": "markdown",
      "source": [
        "### Pandas Series"
      ],
      "metadata": {
        "collapsed": false,
        "pycharm": {
          "name": "#%% md\n"
        },
        "id": "k4elfTQC3NAr"
      }
    },
    {
      "cell_type": "markdown",
      "source": [
        "Like NumPy, Pandas has its own type of array called a Pandas Series. It is very similar to a NumPy array. We can create a NumPy series by passing a list into the `pd.Series()` function:"
      ],
      "metadata": {
        "collapsed": false,
        "pycharm": {
          "name": "#%% md\n"
        },
        "id": "_-UGc49w3NAr"
      }
    },
    {
      "cell_type": "code",
      "execution_count": null,
      "outputs": [
        {
          "name": "stdout",
          "output_type": "stream",
          "text": [
            "0     Mumbai\n",
            "1       Pune\n",
            "2      Delhi\n",
            "3    Chennai\n",
            "dtype: object\n"
          ]
        }
      ],
      "source": [
        "# Creating a pandas' series:\n",
        "city_names =\n",
        "\n",
        "# printing the series:\n"
      ],
      "metadata": {
        "pycharm": {
          "name": "#%%\n"
        },
        "id": "C4yYelws3NAr",
        "outputId": "7fc3fb46-7357-4fc8-c221-cb55709be873"
      }
    },
    {
      "cell_type": "markdown",
      "source": [
        "We can see that Pandas structures arrays differently from NumPy. It converts the list into a column."
      ],
      "metadata": {
        "collapsed": false,
        "pycharm": {
          "name": "#%% md\n"
        },
        "id": "aQ2cfZYi3NAr"
      }
    },
    {
      "cell_type": "markdown",
      "source": [
        "### Pandas DataFrame"
      ],
      "metadata": {
        "collapsed": false,
        "pycharm": {
          "name": "#%% md\n"
        },
        "id": "q6HpngEp3NAs"
      }
    },
    {
      "cell_type": "markdown",
      "source": [
        "We can combine multiple Pandas Series to create a table called a Pandas Dataframe. A pandas Dataframe is similar to an Excel sheet which we can control with Python code.\n",
        "\n",
        "We first have to define the columns as pandas series and then pass them into the `pd.Dataframe()` as a dictionary with the column names."
      ],
      "metadata": {
        "collapsed": false,
        "pycharm": {
          "name": "#%% md\n"
        },
        "id": "V73Uh0h53NAs"
      }
    },
    {
      "cell_type": "code",
      "execution_count": null,
      "outputs": [
        {
          "data": {
            "text/plain": "  City Name  Population\n0    Mumbai      852469\n1      Pune     1015785\n2     Delhi      485199\n3   Chennai      215685",
            "text/html": "<div>\n<style scoped>\n    .dataframe tbody tr th:only-of-type {\n        vertical-align: middle;\n    }\n\n    .dataframe tbody tr th {\n        vertical-align: top;\n    }\n\n    .dataframe thead th {\n        text-align: right;\n    }\n</style>\n<table border=\"1\" class=\"dataframe\">\n  <thead>\n    <tr style=\"text-align: right;\">\n      <th></th>\n      <th>City Name</th>\n      <th>Population</th>\n    </tr>\n  </thead>\n  <tbody>\n    <tr>\n      <th>0</th>\n      <td>Mumbai</td>\n      <td>852469</td>\n    </tr>\n    <tr>\n      <th>1</th>\n      <td>Pune</td>\n      <td>1015785</td>\n    </tr>\n    <tr>\n      <th>2</th>\n      <td>Delhi</td>\n      <td>485199</td>\n    </tr>\n    <tr>\n      <th>3</th>\n      <td>Chennai</td>\n      <td>215685</td>\n    </tr>\n  </tbody>\n</table>\n</div>"
          },
          "execution_count": 33,
          "metadata": {},
          "output_type": "execute_result"
        }
      ],
      "source": [
        "# Creating the Pandas Series:\n",
        "city_names = pd.Series([\"Mumbai\", \"Pune\", \"Delhi\", \"Chennai\"])\n",
        "population = pd.Series([852469, 1015785, 485199, 215685])\n",
        "\n",
        "# Creating a Pandas DataFrame:\n",
        "dataframe =\n",
        "\n",
        "# Display the top 5 rows of the dataframe:\n"
      ],
      "metadata": {
        "pycharm": {
          "name": "#%%\n"
        },
        "id": "y-RQ81Je3NAs",
        "outputId": "2b0feeed-ca07-4aa3-a15e-2e903fbd4c4a"
      }
    },
    {
      "cell_type": "markdown",
      "source": [
        "We can see now that our arrays have been formatted into a neat tables. Tables like these keep our information together. We do not have to handle multiple arrays, one table does all the work."
      ],
      "metadata": {
        "collapsed": false,
        "pycharm": {
          "name": "#%% md\n"
        },
        "id": "wuUn9gsH3NAt"
      }
    },
    {
      "cell_type": "markdown",
      "source": [
        "#### Loading external data"
      ],
      "metadata": {
        "collapsed": false,
        "pycharm": {
          "name": "#%% md\n"
        },
        "id": "Gfs2e0Te3NAt"
      }
    },
    {
      "cell_type": "markdown",
      "source": [
        "In the last example we created our own data. But most of the time, you will load external entire external files. This is also extremely easy with Pandas. We will load a csv (comma seperated value) file from the internet into Pandas. CSV files can be considered a simplified version of Excel files. We can easily read csv files by using the `pd.read_csv()` function."
      ],
      "metadata": {
        "collapsed": false,
        "pycharm": {
          "name": "#%% md\n"
        },
        "id": "u1DXGIZC3NAt"
      }
    },
    {
      "cell_type": "code",
      "execution_count": null,
      "outputs": [
        {
          "data": {
            "text/plain": "  species     island  bill_length_mm  bill_depth_mm  flipper_length_mm  \\\n0  Adelie  Torgersen            39.1           18.7              181.0   \n1  Adelie  Torgersen            39.5           17.4              186.0   \n2  Adelie  Torgersen            40.3           18.0              195.0   \n3  Adelie  Torgersen             NaN            NaN                NaN   \n4  Adelie  Torgersen            36.7           19.3              193.0   \n\n   body_mass_g     sex  \n0       3750.0    MALE  \n1       3800.0  FEMALE  \n2       3250.0  FEMALE  \n3          NaN     NaN  \n4       3450.0  FEMALE  ",
            "text/html": "<div>\n<style scoped>\n    .dataframe tbody tr th:only-of-type {\n        vertical-align: middle;\n    }\n\n    .dataframe tbody tr th {\n        vertical-align: top;\n    }\n\n    .dataframe thead th {\n        text-align: right;\n    }\n</style>\n<table border=\"1\" class=\"dataframe\">\n  <thead>\n    <tr style=\"text-align: right;\">\n      <th></th>\n      <th>species</th>\n      <th>island</th>\n      <th>bill_length_mm</th>\n      <th>bill_depth_mm</th>\n      <th>flipper_length_mm</th>\n      <th>body_mass_g</th>\n      <th>sex</th>\n    </tr>\n  </thead>\n  <tbody>\n    <tr>\n      <th>0</th>\n      <td>Adelie</td>\n      <td>Torgersen</td>\n      <td>39.1</td>\n      <td>18.7</td>\n      <td>181.0</td>\n      <td>3750.0</td>\n      <td>MALE</td>\n    </tr>\n    <tr>\n      <th>1</th>\n      <td>Adelie</td>\n      <td>Torgersen</td>\n      <td>39.5</td>\n      <td>17.4</td>\n      <td>186.0</td>\n      <td>3800.0</td>\n      <td>FEMALE</td>\n    </tr>\n    <tr>\n      <th>2</th>\n      <td>Adelie</td>\n      <td>Torgersen</td>\n      <td>40.3</td>\n      <td>18.0</td>\n      <td>195.0</td>\n      <td>3250.0</td>\n      <td>FEMALE</td>\n    </tr>\n    <tr>\n      <th>3</th>\n      <td>Adelie</td>\n      <td>Torgersen</td>\n      <td>NaN</td>\n      <td>NaN</td>\n      <td>NaN</td>\n      <td>NaN</td>\n      <td>NaN</td>\n    </tr>\n    <tr>\n      <th>4</th>\n      <td>Adelie</td>\n      <td>Torgersen</td>\n      <td>36.7</td>\n      <td>19.3</td>\n      <td>193.0</td>\n      <td>3450.0</td>\n      <td>FEMALE</td>\n    </tr>\n  </tbody>\n</table>\n</div>"
          },
          "execution_count": 34,
          "metadata": {},
          "output_type": "execute_result"
        }
      ],
      "source": [
        "# Link to the data we need to load:\n",
        "link_to_data = \"https://raw.githubusercontent.com/mwaskom/seaborn-data/master/penguins.csv\"\n",
        "\n",
        "# Loading the csv file as pandas DataFrame:\n",
        "dataframe =\n",
        "\n",
        "# Displaying the top 5 rows of the dataframe:\n"
      ],
      "metadata": {
        "pycharm": {
          "name": "#%%\n"
        },
        "id": "EhBIs87h3NAt",
        "outputId": "e15a5f94-8af0-4af0-cb2a-750e51f57d5c"
      }
    },
    {
      "cell_type": "markdown",
      "source": [
        "#### Describing the data"
      ],
      "metadata": {
        "collapsed": false,
        "pycharm": {
          "name": "#%% md\n"
        },
        "id": "RrbsZhTK3NAu"
      }
    },
    {
      "cell_type": "markdown",
      "source": [
        "The data we loaded contains information about the measurements of different species of penguins. Pandas DataFrames have an inbuilt `.describe()` method that gives us information about the numeric columns of the dataframe in one line:"
      ],
      "metadata": {
        "collapsed": false,
        "pycharm": {
          "name": "#%% md\n"
        },
        "id": "NHtcNMUm3NAu"
      }
    },
    {
      "cell_type": "code",
      "execution_count": null,
      "outputs": [
        {
          "data": {
            "text/plain": "       bill_length_mm  bill_depth_mm  flipper_length_mm  body_mass_g\ncount      342.000000     342.000000         342.000000   342.000000\nmean        43.921930      17.151170         200.915205  4201.754386\nstd          5.459584       1.974793          14.061714   801.954536\nmin         32.100000      13.100000         172.000000  2700.000000\n25%         39.225000      15.600000         190.000000  3550.000000\n50%         44.450000      17.300000         197.000000  4050.000000\n75%         48.500000      18.700000         213.000000  4750.000000\nmax         59.600000      21.500000         231.000000  6300.000000",
            "text/html": "<div>\n<style scoped>\n    .dataframe tbody tr th:only-of-type {\n        vertical-align: middle;\n    }\n\n    .dataframe tbody tr th {\n        vertical-align: top;\n    }\n\n    .dataframe thead th {\n        text-align: right;\n    }\n</style>\n<table border=\"1\" class=\"dataframe\">\n  <thead>\n    <tr style=\"text-align: right;\">\n      <th></th>\n      <th>bill_length_mm</th>\n      <th>bill_depth_mm</th>\n      <th>flipper_length_mm</th>\n      <th>body_mass_g</th>\n    </tr>\n  </thead>\n  <tbody>\n    <tr>\n      <th>count</th>\n      <td>342.000000</td>\n      <td>342.000000</td>\n      <td>342.000000</td>\n      <td>342.000000</td>\n    </tr>\n    <tr>\n      <th>mean</th>\n      <td>43.921930</td>\n      <td>17.151170</td>\n      <td>200.915205</td>\n      <td>4201.754386</td>\n    </tr>\n    <tr>\n      <th>std</th>\n      <td>5.459584</td>\n      <td>1.974793</td>\n      <td>14.061714</td>\n      <td>801.954536</td>\n    </tr>\n    <tr>\n      <th>min</th>\n      <td>32.100000</td>\n      <td>13.100000</td>\n      <td>172.000000</td>\n      <td>2700.000000</td>\n    </tr>\n    <tr>\n      <th>25%</th>\n      <td>39.225000</td>\n      <td>15.600000</td>\n      <td>190.000000</td>\n      <td>3550.000000</td>\n    </tr>\n    <tr>\n      <th>50%</th>\n      <td>44.450000</td>\n      <td>17.300000</td>\n      <td>197.000000</td>\n      <td>4050.000000</td>\n    </tr>\n    <tr>\n      <th>75%</th>\n      <td>48.500000</td>\n      <td>18.700000</td>\n      <td>213.000000</td>\n      <td>4750.000000</td>\n    </tr>\n    <tr>\n      <th>max</th>\n      <td>59.600000</td>\n      <td>21.500000</td>\n      <td>231.000000</td>\n      <td>6300.000000</td>\n    </tr>\n  </tbody>\n</table>\n</div>"
          },
          "execution_count": 35,
          "metadata": {},
          "output_type": "execute_result"
        }
      ],
      "source": [
        "# Describe the numeric attributes of the data:\n"
      ],
      "metadata": {
        "pycharm": {
          "name": "#%%\n"
        },
        "id": "o8GMf1gv3NAu",
        "outputId": "e847d8ac-f865-4e54-bcae-22c44728f049"
      }
    },
    {
      "cell_type": "markdown",
      "source": [
        "For each numeric column in the dataframe, we get statistics like the average, min and max. For example in the second column, the maximum bill depth is 21.5 mm, the mean is 17.15 and the minimum is 13.1."
      ],
      "metadata": {
        "collapsed": false,
        "pycharm": {
          "name": "#%% md\n"
        },
        "id": "wo4OF7k03NAu"
      }
    },
    {
      "cell_type": "markdown",
      "source": [
        "#### Manipulating the DataFrame"
      ],
      "metadata": {
        "collapsed": false,
        "pycharm": {
          "name": "#%% md\n"
        },
        "id": "UxbwyWfH3NAv"
      }
    },
    {
      "cell_type": "markdown",
      "source": [
        "In machine learning projects, you may have to perform operations on your data after you load it. It is important to know how to manipulate the data inside the dataframes.\n",
        "\n",
        "First, lets look at simple operations. We can modify entire columns in the dataframe by performing operations on the whole column. For example, if we want to multiply the `body_mass_g` column by 100 all we have to do is set the column value to the column value multiplied by 100."
      ],
      "metadata": {
        "collapsed": false,
        "pycharm": {
          "name": "#%% md\n"
        },
        "id": "nHFipDSX3NAv"
      }
    },
    {
      "cell_type": "code",
      "execution_count": null,
      "outputs": [
        {
          "data": {
            "text/plain": "  species     island  bill_length_mm  bill_depth_mm  flipper_length_mm  \\\n0  Adelie  Torgersen            39.1           18.7              181.0   \n1  Adelie  Torgersen            39.5           17.4              186.0   \n2  Adelie  Torgersen            40.3           18.0              195.0   \n3  Adelie  Torgersen             NaN            NaN                NaN   \n4  Adelie  Torgersen            36.7           19.3              193.0   \n\n   body_mass_g     sex  \n0     375000.0    MALE  \n1     380000.0  FEMALE  \n2     325000.0  FEMALE  \n3          NaN     NaN  \n4     345000.0  FEMALE  ",
            "text/html": "<div>\n<style scoped>\n    .dataframe tbody tr th:only-of-type {\n        vertical-align: middle;\n    }\n\n    .dataframe tbody tr th {\n        vertical-align: top;\n    }\n\n    .dataframe thead th {\n        text-align: right;\n    }\n</style>\n<table border=\"1\" class=\"dataframe\">\n  <thead>\n    <tr style=\"text-align: right;\">\n      <th></th>\n      <th>species</th>\n      <th>island</th>\n      <th>bill_length_mm</th>\n      <th>bill_depth_mm</th>\n      <th>flipper_length_mm</th>\n      <th>body_mass_g</th>\n      <th>sex</th>\n    </tr>\n  </thead>\n  <tbody>\n    <tr>\n      <th>0</th>\n      <td>Adelie</td>\n      <td>Torgersen</td>\n      <td>39.1</td>\n      <td>18.7</td>\n      <td>181.0</td>\n      <td>375000.0</td>\n      <td>MALE</td>\n    </tr>\n    <tr>\n      <th>1</th>\n      <td>Adelie</td>\n      <td>Torgersen</td>\n      <td>39.5</td>\n      <td>17.4</td>\n      <td>186.0</td>\n      <td>380000.0</td>\n      <td>FEMALE</td>\n    </tr>\n    <tr>\n      <th>2</th>\n      <td>Adelie</td>\n      <td>Torgersen</td>\n      <td>40.3</td>\n      <td>18.0</td>\n      <td>195.0</td>\n      <td>325000.0</td>\n      <td>FEMALE</td>\n    </tr>\n    <tr>\n      <th>3</th>\n      <td>Adelie</td>\n      <td>Torgersen</td>\n      <td>NaN</td>\n      <td>NaN</td>\n      <td>NaN</td>\n      <td>NaN</td>\n      <td>NaN</td>\n    </tr>\n    <tr>\n      <th>4</th>\n      <td>Adelie</td>\n      <td>Torgersen</td>\n      <td>36.7</td>\n      <td>19.3</td>\n      <td>193.0</td>\n      <td>345000.0</td>\n      <td>FEMALE</td>\n    </tr>\n  </tbody>\n</table>\n</div>"
          },
          "execution_count": 36,
          "metadata": {},
          "output_type": "execute_result"
        }
      ],
      "source": [
        "# Multiply the body_mass_g column by 100:\n",
        "dataframe[\"body_mass_g\"] =\n",
        "\n",
        "# Display the top 5 columns of the dataframe:\n"
      ],
      "metadata": {
        "pycharm": {
          "name": "#%%\n"
        },
        "id": "6OaBcOWN3NAv",
        "outputId": "4617266b-8abb-428d-a1b0-ee6ff16f224d"
      }
    },
    {
      "cell_type": "markdown",
      "source": [
        "##### Using NumPy functions"
      ],
      "metadata": {
        "collapsed": false,
        "pycharm": {
          "name": "#%% md\n"
        },
        "id": "bKk4Wytn3NAw"
      }
    },
    {
      "cell_type": "markdown",
      "source": [
        "We can also use numpy functions to modify Pandas Dataframe. Let's say that we needed to calculate the log of the `bill_depth_mm`. We can use the `np.log()` function on the `bill_depth_mm` column:"
      ],
      "metadata": {
        "collapsed": false,
        "pycharm": {
          "name": "#%% md\n"
        },
        "id": "j0laN4KA3NAw"
      }
    },
    {
      "cell_type": "code",
      "execution_count": null,
      "outputs": [
        {
          "data": {
            "text/plain": "  species     island  bill_length_mm  bill_depth_mm  flipper_length_mm  \\\n0  Adelie  Torgersen            39.1       2.928524              181.0   \n1  Adelie  Torgersen            39.5       2.856470              186.0   \n2  Adelie  Torgersen            40.3       2.890372              195.0   \n3  Adelie  Torgersen             NaN            NaN                NaN   \n4  Adelie  Torgersen            36.7       2.960105              193.0   \n\n   body_mass_g     sex  \n0     375000.0    MALE  \n1     380000.0  FEMALE  \n2     325000.0  FEMALE  \n3          NaN     NaN  \n4     345000.0  FEMALE  ",
            "text/html": "<div>\n<style scoped>\n    .dataframe tbody tr th:only-of-type {\n        vertical-align: middle;\n    }\n\n    .dataframe tbody tr th {\n        vertical-align: top;\n    }\n\n    .dataframe thead th {\n        text-align: right;\n    }\n</style>\n<table border=\"1\" class=\"dataframe\">\n  <thead>\n    <tr style=\"text-align: right;\">\n      <th></th>\n      <th>species</th>\n      <th>island</th>\n      <th>bill_length_mm</th>\n      <th>bill_depth_mm</th>\n      <th>flipper_length_mm</th>\n      <th>body_mass_g</th>\n      <th>sex</th>\n    </tr>\n  </thead>\n  <tbody>\n    <tr>\n      <th>0</th>\n      <td>Adelie</td>\n      <td>Torgersen</td>\n      <td>39.1</td>\n      <td>2.928524</td>\n      <td>181.0</td>\n      <td>375000.0</td>\n      <td>MALE</td>\n    </tr>\n    <tr>\n      <th>1</th>\n      <td>Adelie</td>\n      <td>Torgersen</td>\n      <td>39.5</td>\n      <td>2.856470</td>\n      <td>186.0</td>\n      <td>380000.0</td>\n      <td>FEMALE</td>\n    </tr>\n    <tr>\n      <th>2</th>\n      <td>Adelie</td>\n      <td>Torgersen</td>\n      <td>40.3</td>\n      <td>2.890372</td>\n      <td>195.0</td>\n      <td>325000.0</td>\n      <td>FEMALE</td>\n    </tr>\n    <tr>\n      <th>3</th>\n      <td>Adelie</td>\n      <td>Torgersen</td>\n      <td>NaN</td>\n      <td>NaN</td>\n      <td>NaN</td>\n      <td>NaN</td>\n      <td>NaN</td>\n    </tr>\n    <tr>\n      <th>4</th>\n      <td>Adelie</td>\n      <td>Torgersen</td>\n      <td>36.7</td>\n      <td>2.960105</td>\n      <td>193.0</td>\n      <td>345000.0</td>\n      <td>FEMALE</td>\n    </tr>\n  </tbody>\n</table>\n</div>"
          },
          "execution_count": 37,
          "metadata": {},
          "output_type": "execute_result"
        }
      ],
      "source": [
        "# Get the log of the `bill_depth_mm` column:\n",
        "dataframe[\"bill_depth_mm\"] =\n",
        "\n",
        "# Display the top 5 columns of the dataframe:\n"
      ],
      "metadata": {
        "pycharm": {
          "name": "#%%\n"
        },
        "id": "pSznttwi3NAw",
        "outputId": "8ccfccbe-7f32-452e-b159-1be18cc1ad84"
      }
    },
    {
      "cell_type": "markdown",
      "source": [
        "##### Creating New Columns"
      ],
      "metadata": {
        "collapsed": false,
        "pycharm": {
          "name": "#%% md\n"
        },
        "id": "Ek6d2blN3NAw"
      }
    },
    {
      "cell_type": "markdown",
      "source": [
        "Creating new columns in Pandas is also very easy. Here is an example of creating a new column (`multiple_col`) by multiplying `flipper_length_mm` and `body_mass_g`."
      ],
      "metadata": {
        "collapsed": false,
        "pycharm": {
          "name": "#%% md\n"
        },
        "id": "QQ1eDNn33NAx"
      }
    },
    {
      "cell_type": "code",
      "execution_count": null,
      "outputs": [
        {
          "data": {
            "text/plain": "  species     island  bill_length_mm  bill_depth_mm  flipper_length_mm  \\\n0  Adelie  Torgersen            39.1       2.928524              181.0   \n1  Adelie  Torgersen            39.5       2.856470              186.0   \n2  Adelie  Torgersen            40.3       2.890372              195.0   \n3  Adelie  Torgersen             NaN            NaN                NaN   \n4  Adelie  Torgersen            36.7       2.960105              193.0   \n\n   body_mass_g     sex  multiple_col  \n0     375000.0    MALE    67875000.0  \n1     380000.0  FEMALE    70680000.0  \n2     325000.0  FEMALE    63375000.0  \n3          NaN     NaN           NaN  \n4     345000.0  FEMALE    66585000.0  ",
            "text/html": "<div>\n<style scoped>\n    .dataframe tbody tr th:only-of-type {\n        vertical-align: middle;\n    }\n\n    .dataframe tbody tr th {\n        vertical-align: top;\n    }\n\n    .dataframe thead th {\n        text-align: right;\n    }\n</style>\n<table border=\"1\" class=\"dataframe\">\n  <thead>\n    <tr style=\"text-align: right;\">\n      <th></th>\n      <th>species</th>\n      <th>island</th>\n      <th>bill_length_mm</th>\n      <th>bill_depth_mm</th>\n      <th>flipper_length_mm</th>\n      <th>body_mass_g</th>\n      <th>sex</th>\n      <th>multiple_col</th>\n    </tr>\n  </thead>\n  <tbody>\n    <tr>\n      <th>0</th>\n      <td>Adelie</td>\n      <td>Torgersen</td>\n      <td>39.1</td>\n      <td>2.928524</td>\n      <td>181.0</td>\n      <td>375000.0</td>\n      <td>MALE</td>\n      <td>67875000.0</td>\n    </tr>\n    <tr>\n      <th>1</th>\n      <td>Adelie</td>\n      <td>Torgersen</td>\n      <td>39.5</td>\n      <td>2.856470</td>\n      <td>186.0</td>\n      <td>380000.0</td>\n      <td>FEMALE</td>\n      <td>70680000.0</td>\n    </tr>\n    <tr>\n      <th>2</th>\n      <td>Adelie</td>\n      <td>Torgersen</td>\n      <td>40.3</td>\n      <td>2.890372</td>\n      <td>195.0</td>\n      <td>325000.0</td>\n      <td>FEMALE</td>\n      <td>63375000.0</td>\n    </tr>\n    <tr>\n      <th>3</th>\n      <td>Adelie</td>\n      <td>Torgersen</td>\n      <td>NaN</td>\n      <td>NaN</td>\n      <td>NaN</td>\n      <td>NaN</td>\n      <td>NaN</td>\n      <td>NaN</td>\n    </tr>\n    <tr>\n      <th>4</th>\n      <td>Adelie</td>\n      <td>Torgersen</td>\n      <td>36.7</td>\n      <td>2.960105</td>\n      <td>193.0</td>\n      <td>345000.0</td>\n      <td>FEMALE</td>\n      <td>66585000.0</td>\n    </tr>\n  </tbody>\n</table>\n</div>"
          },
          "execution_count": 38,
          "metadata": {},
          "output_type": "execute_result"
        }
      ],
      "source": [
        "# Creating a new column multiple_col by multiplying flipper_length_mm and body_mass_g:\n",
        "dataframe[\"multiple_col\"] =\n",
        "\n",
        "# Displaying first 5 rows of the dataframe:\n",
        "dataframe.head()"
      ],
      "metadata": {
        "pycharm": {
          "name": "#%%\n"
        },
        "id": "9lLy2B093NAx",
        "outputId": "0274b2cd-7d3e-41bc-9af7-0cd62ae95e08"
      }
    },
    {
      "cell_type": "markdown",
      "source": [
        "We can see that a new column has been added to the end of the DataFrame!"
      ],
      "metadata": {
        "collapsed": false,
        "pycharm": {
          "name": "#%% md\n"
        },
        "id": "OZxyyV9g3NA1"
      }
    },
    {
      "cell_type": "markdown",
      "source": [
        "This concludes Day 2! Well Done! Tomorrow we will get started with a real world project!"
      ],
      "metadata": {
        "collapsed": false,
        "pycharm": {
          "name": "#%% md\n"
        },
        "id": "Dl6TIyEH3NA2"
      }
    },
    {
      "cell_type": "markdown",
      "source": [
        "# Done!"
      ],
      "metadata": {
        "collapsed": false,
        "pycharm": {
          "name": "#%% md\n"
        },
        "id": "2T5188Xg3NA2"
      }
    }
  ],
  "metadata": {
    "kernelspec": {
      "display_name": "Python 3",
      "language": "python",
      "name": "python3"
    },
    "language_info": {
      "codemirror_mode": {
        "name": "ipython",
        "version": 2
      },
      "file_extension": ".py",
      "mimetype": "text/x-python",
      "name": "python",
      "nbconvert_exporter": "python",
      "pygments_lexer": "ipython2",
      "version": "2.7.6"
    },
    "colab": {
      "provenance": []
    }
  },
  "nbformat": 4,
  "nbformat_minor": 0
}